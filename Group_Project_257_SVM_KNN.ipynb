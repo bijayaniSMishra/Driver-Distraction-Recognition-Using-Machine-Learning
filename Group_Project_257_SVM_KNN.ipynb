{
 "cells": [
  {
   "cell_type": "code",
   "execution_count": 2,
   "metadata": {
    "colab": {
     "base_uri": "https://localhost:8080/"
    },
    "id": "XVbuiUDMnXJ5",
    "outputId": "d70724bc-e69a-4206-bae2-2281d3f9629f"
   },
   "outputs": [
    {
     "name": "stdout",
     "output_type": "stream",
     "text": [
      "Mounted at /content/gdrive\n"
     ]
    }
   ],
   "source": [
    "from google.colab import drive\n",
    "drive.mount('/content/gdrive')"
   ]
  },
  {
   "cell_type": "code",
   "execution_count": 41,
   "metadata": {
    "colab": {
     "base_uri": "https://localhost:8080/"
    },
    "id": "ljAlaEjRqWb6",
    "outputId": "c1255d23-1f73-4193-f1e0-ef9060d9e07b"
   },
   "outputs": [
    {
     "name": "stdout",
     "output_type": "stream",
     "text": [
      "Archive:  /content/gdrive/MyDrive/257GP-DriverDistraction/imgs.zip\n",
      "replace mydata/test/img_1.jpg? [y]es, [n]o, [A]ll, [N]one, [r]ename: n\n",
      "replace mydata/test/img_10.jpg? [y]es, [n]o, [A]ll, [N]one, [r]ename: N\n"
     ]
    }
   ],
   "source": [
    "!unzip /content/gdrive/MyDrive/257GP-DriverDistraction/imgs.zip -d mydata "
   ]
  },
  {
   "cell_type": "code",
   "execution_count": 7,
   "metadata": {
    "id": "-xmVLhjIqFOK"
   },
   "outputs": [],
   "source": [
    "import numpy as np\n",
    "import pandas as pd \n",
    "from matplotlib import pyplot as plt\n",
    "\n",
    "from skimage import color\n",
    "from skimage.feature import hog\n",
    "from sklearn import svm\n",
    "from sklearn.metrics import classification_report,accuracy_score,confusion_matrix\n",
    "from sklearn.model_selection import GridSearchCV\n",
    "from sklearn.svm import SVC\n",
    "from sklearn.neighbors import KNeighborsClassifier\n",
    "from sklearn.model_selection import cross_val_score\n",
    "\n",
    "import cv2\n",
    "import matplotlib.pyplot as plt\n",
    "import matplotlib.image as mpimg\n",
    "\n",
    "import keras\n",
    "from keras.utils import to_categorical"
   ]
  },
  {
   "cell_type": "code",
   "execution_count": 13,
   "metadata": {
    "id": "YiB0INKEnXKD"
   },
   "outputs": [],
   "source": [
    "#Read the data from csv\n",
    "driver_imgs_list = pd.read_csv(\"/content/gdrive/MyDrive/257GP-DriverDistraction/driver_imgs_list.csv\")\n",
    "test_imgs_list = pd.read_csv(\"/content/gdrive/MyDrive/257GP-DriverDistraction/Labeled_Test_Data.csv\")"
   ]
  },
  {
   "cell_type": "markdown",
   "metadata": {
    "id": "YxYjZ2MyneTF"
   },
   "source": [
    "# Splitting of Images into Training Data and Validation Data"
   ]
  },
  {
   "cell_type": "code",
   "execution_count": 14,
   "metadata": {
    "id": "2-UgLzV9nXKE"
   },
   "outputs": [],
   "source": [
    "#List of Drivers to be sepearted for validation\n",
    "driv_selected = ['p050', 'p015', 'p022', 'p056']"
   ]
  },
  {
   "cell_type": "code",
   "execution_count": 15,
   "metadata": {
    "id": "_qnOKsYrnXKE"
   },
   "outputs": [],
   "source": [
    "#Split Data based on the selected drivers\n",
    "random_list = np.random.permutation(len(driver_imgs_list))\n",
    "df_copy = driver_imgs_list.iloc[random_list]\n",
    "training_image_paths = []\n",
    "training_image_labels =[]\n",
    "validation_image_paths = []\n",
    "validation_image_labels =[]\n",
    "for (index, row) in df_copy.iterrows():\n",
    "    if(row.subject) in driv_selected:\n",
    "        validation_image_paths.append(\"/content/mydata/train/\"+row.classname+'/'+row.img)\n",
    "        validation_image_labels.append(int(row.classname[1]))\n",
    "    else:\n",
    "        training_image_paths.append(\"/content/mydata/train/\"+row.classname+'/'+row.img)\n",
    "        training_image_labels.append(int(row.classname[1]))"
   ]
  },
  {
   "cell_type": "markdown",
   "metadata": {
    "id": "AbuHoCEapKUc"
   },
   "source": [
    "# Creating Test Images Path and Labels"
   ]
  },
  {
   "cell_type": "code",
   "execution_count": 26,
   "metadata": {
    "id": "tnwMA-AGol36"
   },
   "outputs": [],
   "source": [
    "random_test_list = np.random.permutation(len(test_imgs_list))\n",
    "df_test_copy = test_imgs_list.iloc[random_test_list]\n",
    "testing_image_paths = []\n",
    "testing_image_labels =[]\n",
    "for (index, row) in df_test_copy.iterrows():\n",
    "        testing_image_paths.append(\"/content/gdrive/MyDrive/257GP-DriverDistraction/Test_Data/\"+row.classname+'/'+row.img)\n",
    "        testing_image_labels.append(int(row.classname[1]))"
   ]
  },
  {
   "cell_type": "markdown",
   "metadata": {
    "id": "xaVLaeApnqcZ"
   },
   "source": [
    "# Feature Extraction using HOG"
   ]
  },
  {
   "cell_type": "code",
   "execution_count": 17,
   "metadata": {
    "id": "JBVeGsbTnXKF"
   },
   "outputs": [],
   "source": [
    "#Obtain the images from the paths and resize and preprocess them to convert in to HOG feature.\n",
    "def ConvertImages(paths, labels):\n",
    "    images_paths = np.array(paths)\n",
    "    data = []\n",
    "    for i in range(len(images_paths)):\n",
    "        image = mpimg.imread(images_paths[i])\n",
    "        image = image[50:,120:-50]\n",
    "        image = cv2.resize(image,(64,64)) \n",
    "        data.append([image,labels[i]])\n",
    "    plt.imshow(data[0][0])\n",
    "    data = np.transpose(data)\n",
    "    hog_features = []\n",
    "    hog_features = ExtractHogFeature(np.array(data[:][0]))\n",
    "    return CreateDataFrame(hog_features, np.array(data[:][1]))"
   ]
  },
  {
   "cell_type": "code",
   "execution_count": 18,
   "metadata": {
    "id": "wYXspKEenXKG"
   },
   "outputs": [],
   "source": [
    "#Extract the HOG Feature from the image data\n",
    "def ExtractHogFeature(data):\n",
    "    data_gray = [ color.rgb2gray(i) for i in data]\n",
    "    plt.imshow(data_gray[0])\n",
    "    ppc = 16\n",
    "    hog_images = []\n",
    "    hog_features = []\n",
    "    for image in data_gray:\n",
    "        fd,hog_image = hog(image, orientations=8, pixels_per_cell=(ppc,ppc),cells_per_block=(4, 4),block_norm= 'L2',visualize=True)\n",
    "        hog_images.append(hog_image)\n",
    "        hog_features.append(fd)\n",
    "    hog_features = np.array(hog_features)\n",
    "    return hog_features\n",
    "    "
   ]
  },
  {
   "cell_type": "code",
   "execution_count": 19,
   "metadata": {
    "id": "3AYSJWVanXKH"
   },
   "outputs": [],
   "source": [
    "#Convert the extracted features and labels into dataframe\n",
    "def CreateDataFrame(hog_features, labels):\n",
    "    data_frame = []\n",
    "    for i in range(len(hog_features)):\n",
    "        data_frame.append(np.hstack((hog_features[i],labels[i]))) \n",
    "    np.random.shuffle(data_frame)\n",
    "    data_frame = np.array(data_frame)\n",
    "    x = data_frame[:len(data_frame),:-1]\n",
    "    y = data_frame[:len(data_frame),-1:].ravel()\n",
    "    return x,y"
   ]
  },
  {
   "cell_type": "code",
   "execution_count": 20,
   "metadata": {
    "colab": {
     "base_uri": "https://localhost:8080/",
     "height": 302
    },
    "id": "COcGxw-MnXKH",
    "outputId": "30f5e5bd-2294-43de-9037-759d403f6334"
   },
   "outputs": [
    {
     "name": "stdout",
     "output_type": "stream",
     "text": [
      "Shape of training data  (18732, 128)\n",
      "Shape of training labels  (18732,)\n"
     ]
    },
    {
     "data": {
      "image/png": "[encoded data removed]",
      "text/plain": [
       "<Figure size 432x288 with 1 Axes>"
      ]
     },
     "metadata": {
      "needs_background": "light",
      "tags": []
     },
     "output_type": "display_data"
    }
   ],
   "source": [
    "#Get the training data \n",
    "x_train, y_train = ConvertImages(training_image_paths, training_image_labels)\n",
    "print(\"Shape of training data \", x_train.shape)\n",
    "print(\"Shape of training labels \", y_train.shape)"
   ]
  },
  {
   "cell_type": "code",
   "execution_count": 21,
   "metadata": {
    "colab": {
     "base_uri": "https://localhost:8080/",
     "height": 302
    },
    "id": "Ei-cDZhenXKJ",
    "outputId": "4760d7cd-4286-4cea-cb10-04f0978c9457"
   },
   "outputs": [
    {
     "name": "stdout",
     "output_type": "stream",
     "text": [
      "Shape of validation data  (3692, 128)\n",
      "Shape of validation labels  (3692,)\n"
     ]
    },
    {
     "data": {
      "image/png": "[encoded data removed]",
      "text/plain": [
       "<Figure size 432x288 with 1 Axes>"
      ]
     },
     "metadata": {
      "needs_background": "light",
      "tags": []
     },
     "output_type": "display_data"
    }
   ],
   "source": [
    "#Get the validation data\n",
    "x_valid, y_valid = ConvertImages(validation_image_paths, validation_image_labels)\n",
    "print(\"Shape of validation data \",x_valid.shape)\n",
    "print(\"Shape of validation labels \",y_valid.shape)"
   ]
  },
  {
   "cell_type": "markdown",
   "metadata": {
    "id": "OwAiIG9Sn2RY"
   },
   "source": [
    "# SVM"
   ]
  },
  {
   "cell_type": "code",
   "execution_count": 22,
   "metadata": {
    "colab": {
     "base_uri": "https://localhost:8080/"
    },
    "id": "y252GoMCnXKK",
    "outputId": "15fcbbac-3fc2-435f-fc98-74cb6e6138b9"
   },
   "outputs": [
    {
     "name": "stdout",
     "output_type": "stream",
     "text": [
      "Best parameters to train are:  {'C': 10, 'kernel': 'rbf'}\n"
     ]
    }
   ],
   "source": [
    "# Get the best tunning parameters for SVM\n",
    "tuned_parameters = [{'kernel': ['rbf'], 'C': [0.1, 1, 10]},\n",
    "                    {'kernel': ['linear'], 'C': [0.1, 1, 10]},\n",
    "                    {'kernel': ['poly'], 'C': [0.1, 1, 10]}]\n",
    "\n",
    "clf8 = GridSearchCV(\n",
    "        SVC(), tuned_parameters, cv = 5\n",
    "    )\n",
    "clf8.fit(x_train, y_train)\n",
    "print(\"Best parameters to train are: \", clf8.best_params_)"
   ]
  },
  {
   "cell_type": "code",
   "execution_count": 23,
   "metadata": {
    "colab": {
     "base_uri": "https://localhost:8080/"
    },
    "id": "fq1KYQPXnXKL",
    "outputId": "2479b68d-126b-4923-a6c5-028538abf317"
   },
   "outputs": [
    {
     "name": "stdout",
     "output_type": "stream",
     "text": [
      "SVC(C=10, break_ties=False, cache_size=200, class_weight=None, coef0=0.0,\n",
      "    decision_function_shape='ovr', degree=3, gamma='scale', kernel='rbf',\n",
      "    max_iter=-1, probability=False, random_state=None, shrinking=True,\n",
      "    tol=0.001, verbose=False)\n"
     ]
    }
   ],
   "source": [
    "#Create an SVM Model for classification\n",
    "model_svm = svm.SVC(C=10)\n",
    "print(model_svm)\n",
    "model_svm.fit(x_train,y_train)\n",
    "y_pred_val = model_svm.predict(x_valid)"
   ]
  },
  {
   "cell_type": "code",
   "execution_count": 24,
   "metadata": {
    "colab": {
     "base_uri": "https://localhost:8080/"
    },
    "id": "LDWV6evWnXKL",
    "outputId": "212965fc-f807-41b5-a854-486b682cbd64"
   },
   "outputs": [
    {
     "name": "stdout",
     "output_type": "stream",
     "text": [
      "Accuracy Score for SVM  0.48320693391115926\n",
      "              precision    recall  f1-score   support\n",
      "\n",
      "         0.0       0.36      0.50      0.42       412\n",
      "         1.0       0.75      0.55      0.64       339\n",
      "         2.0       0.36      0.36      0.36       348\n",
      "         3.0       0.67      0.32      0.43       399\n",
      "         4.0       0.32      0.57      0.41       396\n",
      "         5.0       0.80      0.66      0.72       403\n",
      "         6.0       0.63      0.49      0.55       392\n",
      "         7.0       0.61      0.74      0.67       334\n",
      "         8.0       0.54      0.52      0.53       332\n",
      "         9.0       0.14      0.12      0.13       337\n",
      "\n",
      "    accuracy                           0.48      3692\n",
      "   macro avg       0.52      0.48      0.49      3692\n",
      "weighted avg       0.52      0.48      0.49      3692\n",
      "\n",
      "[[204   2   6  22 133   1   0   0   5  39]\n",
      " [ 34 187  14  26   8   0   3   1  28  38]\n",
      " [ 44   0 125   6   0   0  67  75  20  11]\n",
      " [ 14  56   3 126 188   2   0   1   5   4]\n",
      " [ 57   0   6   4 224   1  14   1   5  84]\n",
      " [ 10   0  15   2  61 264   0   3  27  21]\n",
      " [ 67   2  50   2   5   1 194   0  31  40]\n",
      " [  0   0  51   0   3   0  13 247  20   0]\n",
      " [ 10   1  55   1   1   2  17  67 173   5]\n",
      " [126   0  19   0  79  58   0   7   8  40]]\n"
     ]
    }
   ],
   "source": [
    "print(\"Accuracy Score for SVM \", accuracy_score(y_valid, y_pred_val))\n",
    "print(classification_report(y_valid, y_pred_val))\n",
    "print(confusion_matrix(y_valid, y_pred_val))"
   ]
  },
  {
   "cell_type": "markdown",
   "metadata": {
    "id": "9YYPVXNzoFCv"
   },
   "source": [
    "# SVM - Test Data"
   ]
  },
  {
   "cell_type": "code",
   "execution_count": 27,
   "metadata": {
    "colab": {
     "base_uri": "https://localhost:8080/",
     "height": 268
    },
    "id": "07OhF0BHnXKM",
    "outputId": "9409bf5a-0653-469c-d3e6-bb77e18f570c"
   },
   "outputs": [
    {
     "data": {
      "image/png": "[encoded data removed]",
      "text/plain": [
       "<Figure size 432x288 with 1 Axes>"
      ]
     },
     "metadata": {
      "needs_background": "light",
      "tags": []
     },
     "output_type": "display_data"
    }
   ],
   "source": [
    "x_test, y_test = ConvertImages(testing_image_paths, testing_image_labels)"
   ]
  },
  {
   "cell_type": "code",
   "execution_count": 30,
   "metadata": {
    "id": "ETG_eEb3nXKM"
   },
   "outputs": [],
   "source": [
    "y_test_val = model_svm.predict(x_test)"
   ]
  },
  {
   "cell_type": "code",
   "execution_count": 32,
   "metadata": {
    "colab": {
     "base_uri": "https://localhost:8080/"
    },
    "id": "L5-5CXHwnXKN",
    "outputId": "05a5a802-9e73-4012-de60-a8e2d37bfaf1"
   },
   "outputs": [
    {
     "name": "stdout",
     "output_type": "stream",
     "text": [
      "Accuracy Score for SVM Test Images  0.48135593220338985\n",
      "              precision    recall  f1-score   support\n",
      "\n",
      "         0.0       0.48      0.34      0.40        38\n",
      "         1.0       0.66      0.53      0.58        36\n",
      "         2.0       0.68      0.51      0.58        37\n",
      "         3.0       0.50      0.44      0.47        27\n",
      "         4.0       0.52      0.43      0.47        35\n",
      "         5.0       0.71      0.69      0.70        32\n",
      "         6.0       0.53      0.58      0.55        31\n",
      "         7.0       0.59      0.57      0.58        35\n",
      "         8.0       0.04      0.17      0.06         6\n",
      "         9.0       0.09      0.17      0.12        18\n",
      "\n",
      "    accuracy                           0.48       295\n",
      "   macro avg       0.48      0.44      0.45       295\n",
      "weighted avg       0.54      0.48      0.51       295\n",
      "\n",
      "[[13  1  1  5  3  3  2  0  1  9]\n",
      " [ 2 19  0  1  0  2  3  1  3  5]\n",
      " [ 0  1 19  0  2  0  3  4  7  1]\n",
      " [ 4  2  1 12  4  1  0  0  1  2]\n",
      " [ 3  0  2  2 15  1  1  3  2  6]\n",
      " [ 2  1  0  2  0 22  0  0  4  1]\n",
      " [ 0  2  2  1  0  0 18  4  2  2]\n",
      " [ 1  1  2  1  0  0  3 20  3  4]\n",
      " [ 1  0  1  0  0  0  1  1  1  1]\n",
      " [ 1  2  0  0  5  2  3  1  1  3]]\n"
     ]
    }
   ],
   "source": [
    "print(\"Accuracy Score for SVM Test Images \", accuracy_score(y_test, y_test_val))\n",
    "print(classification_report(y_test, y_test_val))\n",
    "print(confusion_matrix(y_test, y_test_val))"
   ]
  },
  {
   "cell_type": "markdown",
   "metadata": {
    "id": "Mbc9k9bxnXKN"
   },
   "source": [
    "# KNN"
   ]
  },
  {
   "cell_type": "code",
   "execution_count": 33,
   "metadata": {
    "id": "8b7B_RpznXKO"
   },
   "outputs": [],
   "source": [
    "#Plot the cross validation score for neighbours in range 1 to 5\n",
    "k_range = list(range(1,5))\n",
    "k_scores = []\n",
    "for k in k_range:\n",
    "    knn = KNeighborsClassifier(n_neighbors=k, n_jobs=-1, algorithm='auto', weights='uniform')\n",
    "    scores = cross_val_score(knn, x_train, y_train, cv=10, scoring='accuracy', n_jobs=-1)\n",
    "    k_scores.append(scores.mean())"
   ]
  },
  {
   "cell_type": "code",
   "execution_count": 34,
   "metadata": {
    "colab": {
     "base_uri": "https://localhost:8080/",
     "height": 312
    },
    "id": "xD6qvAlgnXKO",
    "outputId": "39947584-3e8a-4c3a-8c47-00cd109c34eb"
   },
   "outputs": [
    {
     "data": {
      "text/plain": [
       "Text(0.5, 1.0, 'KNN Model for Accuracy')"
      ]
     },
     "execution_count": 34,
     "metadata": {
      "tags": []
     },
     "output_type": "execute_result"
    },
    {
     "data": {
      "image/png": "[encoded data removed]",
      "text/plain": [
       "<Figure size 432x288 with 1 Axes>"
      ]
     },
     "metadata": {
      "needs_background": "light",
      "tags": []
     },
     "output_type": "display_data"
    }
   ],
   "source": [
    "plt.plot(k_range, k_scores)\n",
    "plt.xlabel('K Value for KNN')\n",
    "plt.ylabel('Cross-Validated Accuracy')\n",
    "plt.title('KNN Model for Accuracy')"
   ]
  },
  {
   "cell_type": "code",
   "execution_count": 35,
   "metadata": {
    "colab": {
     "base_uri": "https://localhost:8080/",
     "height": 295
    },
    "id": "giTaAswOnXKO",
    "outputId": "9b5a10f7-f69b-487b-cbda-8bbc8dcc7d28"
   },
   "outputs": [
    {
     "data": {
      "image/png": "[encoded data removed]",
      "text/plain": [
       "<Figure size 432x288 with 1 Axes>"
      ]
     },
     "metadata": {
      "needs_background": "light",
      "tags": []
     },
     "output_type": "display_data"
    }
   ],
   "source": [
    "MSE = [1 - x for x in k_scores]\n",
    "\n",
    "optimal_k = k_range[MSE.index(min(MSE))]\n",
    "\n",
    "plt.plot(k_range, MSE)\n",
    "plt.xlabel('Number of Neighbors K')\n",
    "plt.ylabel('Misclassification Error')\n",
    "plt.title('KNN Model for Misclassification Error')\n",
    "plt.show()"
   ]
  },
  {
   "cell_type": "code",
   "execution_count": 36,
   "metadata": {
    "colab": {
     "base_uri": "https://localhost:8080/"
    },
    "id": "vSd1NjQYoQuC",
    "outputId": "274ebb28-a598-401c-ed4a-b85a07681656"
   },
   "outputs": [
    {
     "name": "stdout",
     "output_type": "stream",
     "text": [
      "The best k for KNN classifcation to be used on this model is 3\n"
     ]
    }
   ],
   "source": [
    "print(\"The best k for KNN classifcation to be used on this model is 3\")"
   ]
  },
  {
   "cell_type": "code",
   "execution_count": 37,
   "metadata": {
    "colab": {
     "base_uri": "https://localhost:8080/"
    },
    "id": "qp96yc6inXKP",
    "outputId": "b11f72b6-6b8b-4310-c7f9-9ff0d7ffec57"
   },
   "outputs": [
    {
     "name": "stdout",
     "output_type": "stream",
     "text": [
      "KNeighborsClassifier(algorithm='auto', leaf_size=30, metric='minkowski',\n",
      "                     metric_params=None, n_jobs=-1, n_neighbors=3, p=2,\n",
      "                     weights='uniform')\n"
     ]
    }
   ],
   "source": [
    "#Train the knn model \n",
    "model_knn = KNeighborsClassifier(n_neighbors=3, n_jobs=-1, algorithm='auto', weights='uniform')\n",
    "print(model_knn)\n",
    "model_knn = model_knn.fit(x_train, y_train)\n",
    "y_predicted_knn = model_knn.predict(x_valid)"
   ]
  },
  {
   "cell_type": "code",
   "execution_count": 38,
   "metadata": {
    "colab": {
     "base_uri": "https://localhost:8080/"
    },
    "id": "KBUYTi3qnXKP",
    "outputId": "8e0965cb-dedb-4743-8209-811b89aeae8f"
   },
   "outputs": [
    {
     "name": "stdout",
     "output_type": "stream",
     "text": [
      "Accuracy Of KNN  0.46289274106175515\n",
      "              precision    recall  f1-score   support\n",
      "\n",
      "         0.0       0.36      0.38      0.37       412\n",
      "         1.0       0.50      0.63      0.56       339\n",
      "         2.0       0.33      0.60      0.43       348\n",
      "         3.0       0.59      0.61      0.60       399\n",
      "         4.0       0.37      0.32      0.34       396\n",
      "         5.0       0.74      0.77      0.76       403\n",
      "         6.0       0.49      0.37      0.42       392\n",
      "         7.0       0.69      0.48      0.57       334\n",
      "         8.0       0.36      0.21      0.26       332\n",
      "         9.0       0.25      0.23      0.24       337\n",
      "\n",
      "    accuracy                           0.46      3692\n",
      "   macro avg       0.47      0.46      0.45      3692\n",
      "weighted avg       0.47      0.46      0.46      3692\n",
      "\n",
      "[[157  31  20  48  47  22   4   0   8  75]\n",
      " [ 21 213  39  13  16   2  22   0   6   7]\n",
      " [  8  17 208  12  23   1  32  15  25   7]\n",
      " [ 11  35  13 243  76   0  16   0   2   3]\n",
      " [129   9  28  53 126   6   9   1   0  35]\n",
      " [  7  22   4  18  16 312   1  13   7   3]\n",
      " [ 12  54  90   7   3   9 144   1  33  39]\n",
      " [  5  15  69   1   8   0  12 161   8  55]\n",
      " [ 16  16 105  10  11   8  51  41  69   5]\n",
      " [ 73  16  52   7  14  62   2   3  32  76]]\n"
     ]
    }
   ],
   "source": [
    "print(\"Accuracy Of KNN \", accuracy_score(y_valid, y_predicted_knn))\n",
    "print(classification_report(y_valid, y_predicted_knn))\n",
    "print(confusion_matrix(y_valid, y_predicted_knn))"
   ]
  },
  {
   "cell_type": "markdown",
   "metadata": {
    "id": "-FiBVQG_oaf4"
   },
   "source": [
    "# KNN - Test"
   ]
  },
  {
   "cell_type": "code",
   "execution_count": 39,
   "metadata": {
    "id": "U1aUpsTgnXKQ"
   },
   "outputs": [],
   "source": [
    "y_test_knn = model_knn.predict(x_test)"
   ]
  },
  {
   "cell_type": "code",
   "execution_count": 40,
   "metadata": {
    "colab": {
     "base_uri": "https://localhost:8080/"
    },
    "id": "hNAE-5C7nXKQ",
    "outputId": "6cea9922-df59-4e05-9e7b-537bf3887d1e"
   },
   "outputs": [
    {
     "name": "stdout",
     "output_type": "stream",
     "text": [
      "Accuracy Score for KNN Test Images  0.4440677966101695\n",
      "              precision    recall  f1-score   support\n",
      "\n",
      "         0.0       0.56      0.39      0.46        38\n",
      "         1.0       0.49      0.61      0.54        36\n",
      "         2.0       0.47      0.38      0.42        37\n",
      "         3.0       0.42      0.56      0.48        27\n",
      "         4.0       0.46      0.51      0.49        35\n",
      "         5.0       0.79      0.69      0.73        32\n",
      "         6.0       0.34      0.32      0.33        31\n",
      "         7.0       0.44      0.40      0.42        35\n",
      "         8.0       0.09      0.17      0.12         6\n",
      "         9.0       0.00      0.00      0.00        18\n",
      "\n",
      "    accuracy                           0.44       295\n",
      "   macro avg       0.40      0.40      0.40       295\n",
      "weighted avg       0.46      0.44      0.45       295\n",
      "\n",
      "[[15  2  1  7  3  2  2  0  0  6]\n",
      " [ 1 22  3  2  1  1  1  3  0  2]\n",
      " [ 0  4 14  0  2  0  6  4  3  4]\n",
      " [ 2  1  1 15  5  1  0  0  1  1]\n",
      " [ 1  2  2  5 18  0  4  2  0  1]\n",
      " [ 2  0  0  2  2 22  0  2  0  2]\n",
      " [ 2  6  4  0  2  0 10  3  3  1]\n",
      " [ 2  6  1  2  2  0  5 14  2  1]\n",
      " [ 0  0  1  1  0  0  1  2  1  0]\n",
      " [ 2  2  3  2  4  2  0  2  1  0]]\n"
     ]
    }
   ],
   "source": [
    "print(\"Accuracy Score for KNN Test Images \", accuracy_score(y_test, y_test_knn))\n",
    "print(classification_report(y_test, y_test_knn))\n",
    "print(confusion_matrix(y_test, y_test_knn))"
   ]
  }
 ],
 "metadata": {
  "colab": {
   "collapsed_sections": [],
   "name": "CMPE 257 - Distracted Drivers - SVM, KNN.ipynb",
   "provenance": [],
   "toc_visible": true
  },
  "kernelspec": {
   "display_name": "Python 3",
   "language": "python",
   "name": "python3"
  },
  "language_info": {
   "codemirror_mode": {
    "name": "ipython",
    "version": 3
   },
   "file_extension": ".py",
   "mimetype": "text/x-python",
   "name": "python",
   "nbconvert_exporter": "python",
   "pygments_lexer": "ipython3",
   "version": "3.7.6"
  }
 },
 "nbformat": 4,
 "nbformat_minor": 1
}
